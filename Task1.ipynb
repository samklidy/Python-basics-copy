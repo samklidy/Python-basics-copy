{
 "cells": [
  {
   "cell_type": "markdown",
   "metadata": {},
   "source": [
    "Задание1"
   ]
  },
  {
   "cell_type": "code",
   "execution_count": 4,
   "metadata": {},
   "outputs": [
    {
     "name": "stdout",
     "output_type": "stream",
     "text": [
      "Фразы равной длины\n",
      "Конец программы\n"
     ]
    }
   ],
   "source": [
    "phrase_1 = 'Насколько проще было бы писать программы, если бы не заказчики'\n",
    "phrase_2 = 'Насколько проще было бы писать программы, если бы не заказчики'\n",
    "\n",
    "if len(phrase_1) > len(phrase_2):\n",
    "    print('Фраза 1 длиннее фразы 2')\n",
    "elif len(phrase_1) < len(phrase_2):\n",
    "    print('Фраза 2 длиннее фразы 1')\n",
    "else:\n",
    "    print('Фразы равной длины')\n",
    "\n",
    "print('Конец программы')"
   ]
  },
  {
   "cell_type": "code",
   "execution_count": null,
   "metadata": {},
   "outputs": [],
   "source": [
    "Задание 2"
   ]
  },
  {
   "cell_type": "code",
   "execution_count": 3,
   "metadata": {},
   "outputs": [
    {
     "name": "stdout",
     "output_type": "stream",
     "text": [
      "Високосный год\n",
      "Конец программы\n"
     ]
    }
   ],
   "source": [
    "year = 1704\n",
    "if year % 400 == 0:\n",
    "    print('Високосный год')\n",
    "elif year % 4 == 0 and year % 100 != 0:\n",
    "    print('Високосный год')\n",
    "else:\n",
    "    print('Обычный год')\n",
    "print('Конец программы')"
   ]
  },
  {
   "cell_type": "markdown",
   "metadata": {},
   "source": [
    "Задание 3"
   ]
  },
  {
   "cell_type": "code",
   "execution_count": 1,
   "metadata": {},
   "outputs": [
    {
     "name": "stdout",
     "output_type": "stream",
     "text": [
      "Упаковка для лыж\n",
      "Конец программы\n"
     ]
    }
   ],
   "source": [
    "width = 45\n",
    "length = 205\n",
    "height = 45\n",
    "\n",
    "if width < 15 and length < 15 and height < 15:\n",
    "    print('Коробка №1')\n",
    "elif length > 200:\n",
    "    print('Упаковка для лыж')\n",
    "elif 15 < width < 50 or 15 < length < 50 or 15 < height < 50:\n",
    "    print('Коробка №2')\n",
    "else:\n",
    "    print('Стандартная коробка №3')\n",
    "    \n",
    "print('Конец программы')"
   ]
  },
  {
   "cell_type": "code",
   "execution_count": null,
   "metadata": {},
   "outputs": [],
   "source": [
    "Задание 4"
   ]
  },
  {
   "cell_type": "code",
   "execution_count": null,
   "metadata": {},
   "outputs": [],
   "source": [
    "day = int(input('Введите день рождения '))\n",
    "month = str(input('Введите месяц рождения '))\n",
    "if month == 'январь' and day <= 19 or month == 'декабрь' and day >= 22:\n",
    "    print ('Козерог')\n",
    "elif month == 'февраль' and day <= 18 or month == 'январь' and day >= 20:\n",
    "    print ('Водолей')\n",
    "elif month == 'март' and day <= 20 or month == 'февраль' and day >= 19:\n",
    "    print ('Рыбы')\n",
    "elif month == 'апрель' and day <= 19 or month == 'март' and day >= 21:\n",
    "    print ('Овен')\n",
    "elif month == 'май' and day <= 20 or month == 'апрель' and day >= 20:\n",
    "    print ('Телец')\n",
    "elif month == 'июнь' and day <= 20 or month == 'май' and day >= 21:\n",
    "    print ('Близнецы')\n",
    "elif month == 'июль' and day <= 22 or month == 'июнь' and day >= 21:\n",
    "    print ('Рак')\n",
    "elif month == 'август' and day <= 22 or month == 'июль' and day >= 23:\n",
    "    print ('Лев')\n",
    "elif month == 'сентябрь' and day <= 22 or month == 'август' and day >= 23:\n",
    "    print ('Дева')\n",
    "elif month == 'октябрь' and day <= 22 or month == 'сентябрь' and day >= 23:\n",
    "    print ('Весы')\n",
    "elif month == 'ноябрь' and day <= 21 or month == 'октябрь' and day >= 23:\n",
    "    print ('Скорпион')\n",
    "elif month == 'декабрь' and day <= 21 or month == 'ноябрь' and day >= 22:\n",
    "    print ('Стрелец')\n",
    "    \n",
    "print('Конец программы')"
   ]
  },
  {
   "cell_type": "code",
   "execution_count": null,
   "metadata": {},
   "outputs": [],
   "source": []
  }
 ],
 "metadata": {
  "kernelspec": {
   "display_name": "Python 3",
   "language": "python",
   "name": "python3"
  },
  "language_info": {
   "codemirror_mode": {
    "name": "ipython",
    "version": 3
   },
   "file_extension": ".py",
   "mimetype": "text/x-python",
   "name": "python",
   "nbconvert_exporter": "python",
   "pygments_lexer": "ipython3",
   "version": "3.8.3"
  }
 },
 "nbformat": 4,
 "nbformat_minor": 2
}
